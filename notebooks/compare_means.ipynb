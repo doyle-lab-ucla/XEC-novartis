{
 "cells": [
  {
   "cell_type": "code",
   "execution_count": 1,
   "metadata": {},
   "outputs": [],
   "source": [
    "import pandas as pd\n",
    "import matplotlib.pyplot as plt\n",
    "from scipy.stats import mannwhitneyu"
   ]
  },
  {
   "cell_type": "code",
   "execution_count": 25,
   "metadata": {},
   "outputs": [],
   "source": [
    "df = pd.read_csv(\"../data/experimental_results_final.csv\", low_memory=False, index_col=0).dropna(subset=[\"CAD Yield (%)\"])"
   ]
  },
  {
   "cell_type": "code",
   "execution_count": 26,
   "metadata": {},
   "outputs": [
    {
     "data": {
      "text/plain": [
       "active_learning_2           96\n",
       "random_1                    95\n",
       "random_3                    93\n",
       "test_2                      91\n",
       "random_4                    90\n",
       "unexplored                  90\n",
       "high_yield                  87\n",
       "active_learning_3           86\n",
       "random_2                    84\n",
       "initial_diverse             83\n",
       "active_learning_1           76\n",
       "test_1                      70\n",
       "cores2_test_1               45\n",
       "cores2_active_learning_1    45\n",
       "cores2_active_learning_2    44\n",
       "cores2_test_2               40\n",
       "test_3                      32\n",
       "cross_active_learning       30\n",
       "cross_random                14\n",
       "Name: selection, dtype: int64"
      ]
     },
     "execution_count": 26,
     "metadata": {},
     "output_type": "execute_result"
    }
   ],
   "source": [
    "df[\"selection\"].value_counts()"
   ]
  },
  {
   "cell_type": "code",
   "execution_count": 27,
   "metadata": {},
   "outputs": [
    {
     "data": {
      "text/plain": [
       "array(['CC(C)(C)OC(=O)N1CCC(COc2ccc(Br)cc2)CC1',\n",
       "       'CCOC(=O)C(=O)CC(=O)c1ccc(Br)cc1', 'O=S(=O)(c1ccc(Br)cc1)N1CCSCC1',\n",
       "       'CS(=O)(=O)N(c1ccc(Br)cc1)S(C)(=O)=O', 'Cc1cccc(-c2c(F)cccc2Br)c1',\n",
       "       'COC(=O)c1cc(Br)ccc1OC(F)F',\n",
       "       'CC(C)(C)OC(=O)N1CCN(c2ccc(Br)cc2Cl)CC1',\n",
       "       'Cc1nc(-c2ccc(Br)cc2)cs1'], dtype=object)"
      ]
     },
     "execution_count": 27,
     "metadata": {},
     "output_type": "execute_result"
    }
   ],
   "source": [
    "# Core set 1\n",
    "aryl_smiles = df[df[\"selection\"].isin([\"active_learning_1\", \"active_learning_2\", \"active_learning_3\"])][\"smiles_aryl\"].unique()\n",
    "aryl_smiles"
   ]
  },
  {
   "cell_type": "markdown",
   "metadata": {},
   "source": [
    "## Averaged over aryl bromides comparison of mean yields"
   ]
  },
  {
   "cell_type": "code",
   "execution_count": 28,
   "metadata": {},
   "outputs": [],
   "source": [
    "# Filter to core set 1\n",
    "df_core_set_1 = df[df[\"smiles_aryl\"].isin(aryl_smiles)].copy()"
   ]
  },
  {
   "cell_type": "code",
   "execution_count": 29,
   "metadata": {},
   "outputs": [],
   "source": [
    "# Get the average yield for each alkyl bromide average over the aryl bromides \n",
    "df_avg_yield_aryl = df_core_set_1.groupby(by=[\"smiles_alkyl\", \"selection\"])[[\"CAD Yield (%)\"]].agg(\"mean\").reset_index()"
   ]
  },
  {
   "cell_type": "code",
   "execution_count": 30,
   "metadata": {},
   "outputs": [
    {
     "data": {
      "text/html": [
       "<div>\n",
       "<style scoped>\n",
       "    .dataframe tbody tr th:only-of-type {\n",
       "        vertical-align: middle;\n",
       "    }\n",
       "\n",
       "    .dataframe tbody tr th {\n",
       "        vertical-align: top;\n",
       "    }\n",
       "\n",
       "    .dataframe thead th {\n",
       "        text-align: right;\n",
       "    }\n",
       "</style>\n",
       "<table border=\"1\" class=\"dataframe\">\n",
       "  <thead>\n",
       "    <tr style=\"text-align: right;\">\n",
       "      <th></th>\n",
       "      <th>smiles_alkyl</th>\n",
       "      <th>selection</th>\n",
       "      <th>CAD Yield (%)</th>\n",
       "    </tr>\n",
       "  </thead>\n",
       "  <tbody>\n",
       "    <tr>\n",
       "      <th>0</th>\n",
       "      <td>BrC(c1ccccc1)c1ccccn1</td>\n",
       "      <td>random_1</td>\n",
       "      <td>0.000000</td>\n",
       "    </tr>\n",
       "    <tr>\n",
       "      <th>1</th>\n",
       "      <td>BrC1C=CCCC1</td>\n",
       "      <td>random_2</td>\n",
       "      <td>0.945034</td>\n",
       "    </tr>\n",
       "    <tr>\n",
       "      <th>2</th>\n",
       "      <td>BrC1CCN(Cc2ccccc2)C1</td>\n",
       "      <td>random_2</td>\n",
       "      <td>2.055761</td>\n",
       "    </tr>\n",
       "    <tr>\n",
       "      <th>3</th>\n",
       "      <td>BrC1Cc2ccccc21</td>\n",
       "      <td>random_1</td>\n",
       "      <td>20.736346</td>\n",
       "    </tr>\n",
       "    <tr>\n",
       "      <th>4</th>\n",
       "      <td>BrCCC1CCCCN1</td>\n",
       "      <td>random_2</td>\n",
       "      <td>13.369276</td>\n",
       "    </tr>\n",
       "    <tr>\n",
       "      <th>...</th>\n",
       "      <td>...</td>\n",
       "      <td>...</td>\n",
       "      <td>...</td>\n",
       "    </tr>\n",
       "    <tr>\n",
       "      <th>130</th>\n",
       "      <td>O=[N+]([O-])c1cccc(OCCBr)c1</td>\n",
       "      <td>active_learning_3</td>\n",
       "      <td>0.000000</td>\n",
       "    </tr>\n",
       "    <tr>\n",
       "      <th>131</th>\n",
       "      <td>OB(O)c1ccc(CBr)c(F)c1</td>\n",
       "      <td>initial_diverse</td>\n",
       "      <td>6.610572</td>\n",
       "    </tr>\n",
       "    <tr>\n",
       "      <th>132</th>\n",
       "      <td>OB(O)c1ccc(OCCBr)cc1</td>\n",
       "      <td>initial_diverse</td>\n",
       "      <td>33.224155</td>\n",
       "    </tr>\n",
       "    <tr>\n",
       "      <th>133</th>\n",
       "      <td>OC(CCl)CBr</td>\n",
       "      <td>test_2</td>\n",
       "      <td>11.532975</td>\n",
       "    </tr>\n",
       "    <tr>\n",
       "      <th>134</th>\n",
       "      <td>OCCOCCOCCOCCOCCOCCOCCBr</td>\n",
       "      <td>active_learning_3</td>\n",
       "      <td>24.830562</td>\n",
       "    </tr>\n",
       "  </tbody>\n",
       "</table>\n",
       "<p>135 rows × 3 columns</p>\n",
       "</div>"
      ],
      "text/plain": [
       "                    smiles_alkyl          selection  CAD Yield (%)\n",
       "0          BrC(c1ccccc1)c1ccccn1           random_1       0.000000\n",
       "1                    BrC1C=CCCC1           random_2       0.945034\n",
       "2           BrC1CCN(Cc2ccccc2)C1           random_2       2.055761\n",
       "3                 BrC1Cc2ccccc21           random_1      20.736346\n",
       "4                   BrCCC1CCCCN1           random_2      13.369276\n",
       "..                           ...                ...            ...\n",
       "130  O=[N+]([O-])c1cccc(OCCBr)c1  active_learning_3       0.000000\n",
       "131        OB(O)c1ccc(CBr)c(F)c1    initial_diverse       6.610572\n",
       "132         OB(O)c1ccc(OCCBr)cc1    initial_diverse      33.224155\n",
       "133                   OC(CCl)CBr             test_2      11.532975\n",
       "134      OCCOCCOCCOCCOCCOCCOCCBr  active_learning_3      24.830562\n",
       "\n",
       "[135 rows x 3 columns]"
      ]
     },
     "execution_count": 30,
     "metadata": {},
     "output_type": "execute_result"
    }
   ],
   "source": [
    "df_avg_yield_aryl"
   ]
  },
  {
   "cell_type": "code",
   "execution_count": 31,
   "metadata": {},
   "outputs": [
    {
     "name": "stdout",
     "output_type": "stream",
     "text": [
      "Random selections vs active learning selections comparison with mann whitney u test p-value = 0.0001\n",
      "Random selections vs random test set comparison with mann whitney u test p-value = 0.4242\n",
      "Random test set vs active learning selections comparison with mann whitney u test p-value = 0.0077\n"
     ]
    },
    {
     "data": {
      "image/png": "[encoded data removed]",
      "text/plain": [
       "<Figure size 640x480 with 1 Axes>"
      ]
     },
     "metadata": {},
     "output_type": "display_data"
    }
   ],
   "source": [
    "statistical_tests = {\n",
    "    \"comparison\": [],\n",
    "    \"p-value\": [],\n",
    "    \"statistic\": []\n",
    "    }\n",
    "\n",
    "random_selections = [\"random_1\", \"random_2\", \"random_3\", \"random_4\"]\n",
    "active_learning_selections = [\"active_learning_1\", \"active_learning_2\", \"active_learning_3\"]\n",
    "random_test_set = [\"test_1\", \"test_2\", \"test_3\"]\n",
    "\n",
    "# Random selections vs active learning selections comparison\n",
    "statistic, pvalue = mannwhitneyu(\n",
    "    x=df_avg_yield_aryl[df_avg_yield_aryl[\"selection\"].isin(random_selections)][\"CAD Yield (%)\"],\n",
    "    y=df_avg_yield_aryl[df_avg_yield_aryl[\"selection\"].isin(active_learning_selections)][\"CAD Yield (%)\"],\n",
    ")\n",
    "statistic = round(statistic, 4)\n",
    "pvalue = round(pvalue, 4)\n",
    "print(f\"Random selections vs active learning selections comparison with mann whitney u test p-value = {pvalue}\")\n",
    "statistical_tests[\"comparison\"].append(\"random_vs_active_learning_selections\")\n",
    "statistical_tests[\"p-value\"].append(pvalue)\n",
    "statistical_tests[\"statistic\"].append(statistic)\n",
    "\n",
    "# Random selections vs random test set comparison\n",
    "statistic, pvalue = mannwhitneyu(\n",
    "    x=df_avg_yield_aryl[df_avg_yield_aryl[\"selection\"].isin(random_selections)][\"CAD Yield (%)\"],\n",
    "    y=df_avg_yield_aryl[df_avg_yield_aryl[\"selection\"].isin(random_test_set)][\"CAD Yield (%)\"],\n",
    "    )\n",
    "statistic = round(statistic, 4)\n",
    "pvalue = round(pvalue, 4)\n",
    "print(f\"Random selections vs random test set comparison with mann whitney u test p-value = {pvalue}\")\n",
    "statistical_tests[\"comparison\"].append(\"random_selections_vs_random_test_set\")\n",
    "statistical_tests[\"p-value\"].append(pvalue)\n",
    "statistical_tests[\"statistic\"].append(statistic)\n",
    "\n",
    "# Random test set vs active learning selections comparison\n",
    "statistic, pvalue = mannwhitneyu(\n",
    "    x=df_avg_yield_aryl[df_avg_yield_aryl[\"selection\"].isin(random_test_set)][\"CAD Yield (%)\"],\n",
    "    y=df_avg_yield_aryl[df_avg_yield_aryl[\"selection\"].isin(active_learning_selections)][\"CAD Yield (%)\"],\n",
    ")\n",
    "statistic = round(statistic, 4)\n",
    "pvalue = round(pvalue, 4)\n",
    "print(f\"Random test set vs active learning selections comparison with mann whitney u test p-value = {pvalue}\")\n",
    "statistical_tests[\"comparison\"].append(\"active_learning_selections_vs_random_test_set\")\n",
    "statistical_tests[\"p-value\"].append(pvalue)\n",
    "statistical_tests[\"statistic\"].append(statistic)\n",
    "\n",
    "random_selections_mean = round(df_avg_yield_aryl[df_avg_yield_aryl[\"selection\"].isin(random_selections)][\"CAD Yield (%)\"].mean(), 2)\n",
    "random_test_set_mean = round(df_avg_yield_aryl[df_avg_yield_aryl[\"selection\"].isin(random_test_set)][\"CAD Yield (%)\"].mean(), 2)\n",
    "active_learning_selections_mean = round(df_avg_yield_aryl[df_avg_yield_aryl[\"selection\"].isin(active_learning_selections)][\"CAD Yield (%)\"].mean(), 2)\n",
    "\n",
    "df_avg_yield_aryl[df_avg_yield_aryl[\"selection\"].isin(random_selections)][\"CAD Yield (%)\"].hist(label=f\"Random selections, mean = {random_selections_mean}\", alpha=0.5)\n",
    "df_avg_yield_aryl[df_avg_yield_aryl[\"selection\"].isin(random_test_set)][\"CAD Yield (%)\"].hist(label=f\"Random test set, mean = {random_test_set_mean}\", alpha=0.5)\n",
    "df_avg_yield_aryl[df_avg_yield_aryl[\"selection\"].isin(active_learning_selections)][\"CAD Yield (%)\"].hist(label=f\"Active learning selections, mean = {active_learning_selections_mean}\", alpha=0.5)\n",
    "plt.legend()\n",
    "plt.title(\"Distribution of mean yields averaged over aryl bromides\")\n",
    "plt.ylabel(\"Count\")\n",
    "plt.show()\n",
    "\n",
    "statistical_tests_df = pd.DataFrame(statistical_tests)"
   ]
  },
  {
   "cell_type": "code",
   "execution_count": 32,
   "metadata": {},
   "outputs": [
    {
     "data": {
      "text/html": [
       "<div>\n",
       "<style scoped>\n",
       "    .dataframe tbody tr th:only-of-type {\n",
       "        vertical-align: middle;\n",
       "    }\n",
       "\n",
       "    .dataframe tbody tr th {\n",
       "        vertical-align: top;\n",
       "    }\n",
       "\n",
       "    .dataframe thead th {\n",
       "        text-align: right;\n",
       "    }\n",
       "</style>\n",
       "<table border=\"1\" class=\"dataframe\">\n",
       "  <thead>\n",
       "    <tr style=\"text-align: right;\">\n",
       "      <th></th>\n",
       "      <th>comparison</th>\n",
       "      <th>p-value</th>\n",
       "    </tr>\n",
       "  </thead>\n",
       "  <tbody>\n",
       "    <tr>\n",
       "      <th>0</th>\n",
       "      <td>random_vs_active_learning_selections</td>\n",
       "      <td>0.0001</td>\n",
       "    </tr>\n",
       "    <tr>\n",
       "      <th>1</th>\n",
       "      <td>random_selections_vs_random_test_set</td>\n",
       "      <td>0.4242</td>\n",
       "    </tr>\n",
       "    <tr>\n",
       "      <th>2</th>\n",
       "      <td>active_learning_selections_vs_random_test_set</td>\n",
       "      <td>0.0077</td>\n",
       "    </tr>\n",
       "  </tbody>\n",
       "</table>\n",
       "</div>"
      ],
      "text/plain": [
       "                                      comparison  p-value\n",
       "0           random_vs_active_learning_selections   0.0001\n",
       "1           random_selections_vs_random_test_set   0.4242\n",
       "2  active_learning_selections_vs_random_test_set   0.0077"
      ]
     },
     "execution_count": 32,
     "metadata": {},
     "output_type": "execute_result"
    }
   ],
   "source": [
    "statistical_tests_df[[\"comparison\", \"p-value\"]]"
   ]
  },
  {
   "cell_type": "code",
   "execution_count": null,
   "metadata": {},
   "outputs": [],
   "source": []
  }
 ],
 "metadata": {
  "kernelspec": {
   "display_name": "brbr",
   "language": "python",
   "name": "brbr"
  },
  "language_info": {
   "codemirror_mode": {
    "name": "ipython",
    "version": 3
   },
   "file_extension": ".py",
   "mimetype": "text/x-python",
   "name": "python",
   "nbconvert_exporter": "python",
   "pygments_lexer": "ipython3",
   "version": "3.7.13"
  }
 },
 "nbformat": 4,
 "nbformat_minor": 2
}
